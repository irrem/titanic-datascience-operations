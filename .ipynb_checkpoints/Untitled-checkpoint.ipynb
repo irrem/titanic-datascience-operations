{
 "cells": [
  {
   "cell_type": "raw",
   "id": "6d7f3d33",
   "metadata": {},
   "source": [
    "1. Please show all the information that belongs to the lastsix passengers. You should have 6 rows each referring to a passenger, and the values of 12 features (columns) for each passenger.\n",
    "    "
   ]
  },
  {
   "cell_type": "code",
   "execution_count": 3,
   "id": "6c567586",
   "metadata": {},
   "outputs": [
    {
     "name": "stdout",
     "output_type": "stream",
     "text": [
      "891,0,3,\"Dooley, Mr. Patrick\",male,32,0,0,370376,7.75,,Q\n",
      "\n",
      "890,1,1,\"Behr, Mr. Karl Howell\",male,26,0,0,111369,30,C148,C\n",
      "\n",
      "889,0,3,\"Johnston, Miss. Catherine Helen \"\"Carrie\"\"\",female,,1,2,W./C. 6607,23.45,,S\n",
      "\n",
      "888,1,1,\"Graham, Miss. Margaret Edith\",female,19,0,0,112053,30,B42,S\n",
      "\n",
      "887,0,2,\"Montvila, Rev. Juozas\",male,27,0,0,211536,13,,S\n",
      "\n",
      "886,0,3,\"Rice, Mrs. William (Margaret Norton)\",female,39,0,5,382652,29.125,,Q\n",
      "\n"
     ]
    }
   ],
   "source": [
    "import csv\n",
    "with open('train.csv','r') as file:\n",
    "    data = file.readlines()\n",
    "def getLastSixRow():\n",
    "    number = [-1, -2, -3, -4, -5, -6]\n",
    "    for x in number:\n",
    "        print(data[x])\n",
    "getLastSixRow()"
   ]
  },
  {
   "cell_type": "markdown",
   "id": "3155346e",
   "metadata": {},
   "source": [
    "2.Please list the attributes (column titles)."
   ]
  },
  {
   "cell_type": "code",
   "execution_count": 5,
   "id": "e4aefaad",
   "metadata": {
    "scrolled": true
   },
   "outputs": [
    {
     "name": "stdout",
     "output_type": "stream",
     "text": [
      "PassengerId\n",
      "Survived\n",
      "Pclass\n",
      "Name\n",
      "Sex\n",
      "Age\n",
      "SibSp\n",
      "Parch\n",
      "Ticket\n",
      "Fare\n",
      "Cabin\n",
      "Embarked\n"
     ]
    }
   ],
   "source": [
    "#second question\n",
    "import pandas as pd \n",
    "data = pd.read_csv(\"train.csv\") \n",
    "for col in data.columns:\n",
    "    print(col)"
   ]
  },
  {
   "cell_type": "code",
   "execution_count": 6,
   "id": "81cff046",
   "metadata": {},
   "outputs": [
    {
     "name": "stdout",
     "output_type": "stream",
     "text": [
      "PassengerId,Survived,Pclass,Name,Sex,Age,SibSp,Parch,Ticket,Fare,Cabin,Embarked\n",
      "\n"
     ]
    }
   ],
   "source": [
    "import csv\n",
    "with open('train.csv','r') as file:\n",
    "    data = file.readlines()\n",
    "def getTitlesRow():  \n",
    "        print(data[0])\n",
    "getTitlesRow()"
   ]
  },
  {
   "cell_type": "markdown",
   "id": "2d89c5ce",
   "metadata": {},
   "source": [
    "3.Please show the size and dimension of the dataset. Do not forget to write what the output of your script refers to."
   ]
  },
  {
   "cell_type": "code",
   "execution_count": 7,
   "id": "628fbfaf",
   "metadata": {},
   "outputs": [
    {
     "name": "stdout",
     "output_type": "stream",
     "text": [
      "Size = 10692\n",
      "Shape =(891, 12)\n",
      "Shape[0] x Shape[1] = 10692\n"
     ]
    }
   ],
   "source": [
    "import pandas as pd\n",
    "data = pd.read_csv('train.csv')\n",
    "size = data.size\n",
    "shape = data.shape\n",
    "print(\"Size = {}\\nShape ={}\\nShape[0] x Shape[1] = {}\".\n",
    "format(size, shape, shape[0]*shape[1]))"
   ]
  },
  {
   "cell_type": "markdown",
   "id": "78ab503b",
   "metadata": {},
   "source": [
    "4.Please check how many missing values there are in the dataset for each feature column. Missing values will have a null value (NaN). Do not forget to write which classes have missing values, and how many missing values are there in the comments.\n",
    "Important Note: For the rest of the homework, you can delete the instances that have NaN value for specific attributes (columns) asked in the question"
   ]
  },
  {
   "cell_type": "code",
   "execution_count": 125,
   "id": "2c428903",
   "metadata": {},
   "outputs": [
    {
     "data": {
      "text/plain": [
       "PassengerId      0\n",
       "Survived         0\n",
       "Pclass           0\n",
       "Name             0\n",
       "Sex              0\n",
       "Age            177\n",
       "SibSp            0\n",
       "Parch            0\n",
       "Ticket           0\n",
       "Fare             0\n",
       "Cabin          687\n",
       "Embarked         2\n",
       "dtype: int64"
      ]
     },
     "execution_count": 125,
     "metadata": {},
     "output_type": "execute_result"
    }
   ],
   "source": [
    "import pandas as pd \n",
    "data = pd.read_csv(\"train.csv\") \n",
    "data.isnull().sum()\n",
    "#There are null values in the age, cabin and embarked classes.\n",
    "#There are 177 null values in the age class.\n",
    "#There are 687 null values in the cabin class.\n",
    "#There is 2 null value in the Embarked class.\n"
   ]
  },
  {
   "cell_type": "markdown",
   "id": "61ab1536",
   "metadata": {},
   "source": [
    "5.Please create a pie chart which shows the percentage of the passengers that were traveling in the 1st, 2nd and 3rd classes. Explain in your comments which class has more passengers."
   ]
  },
  {
   "cell_type": "code",
   "execution_count": 127,
   "id": "a5fc353c",
   "metadata": {},
   "outputs": [
    {
     "data": {
      "text/plain": [
       "<AxesSubplot:ylabel='Pclass'>"
      ]
     },
     "execution_count": 127,
     "metadata": {},
     "output_type": "execute_result"
    },
    {
     "data": {
      "image/png": "[encoded data removed]",
      "text/plain": [
       "<Figure size 432x288 with 1 Axes>"
      ]
     },
     "metadata": {},
     "output_type": "display_data"
    }
   ],
   "source": [
    "import pandas as pd \n",
    "data = pd.read_csv(\"train.csv\") \n",
    "data.Pclass.value_counts().plot(kind='pie', autopct='%1.1f%%')"
   ]
  },
  {
   "cell_type": "markdown",
   "id": "0af73205",
   "metadata": {},
   "source": [
    "6.Please create a bar chart that shows the number of passengers who survived and the number \n",
    "of passengers who did not survive (You should have two bars referring to survived and did not \n",
    "survive)"
   ]
  },
  {
   "cell_type": "code",
   "execution_count": 128,
   "id": "98990a5b",
   "metadata": {},
   "outputs": [
    {
     "data": {
      "text/plain": [
       "<AxesSubplot:>"
      ]
     },
     "execution_count": 128,
     "metadata": {},
     "output_type": "execute_result"
    },
    {
     "data": {
      "image/png": "[encoded data removed]",
      "text/plain": [
       "<Figure size 432x288 with 1 Axes>"
      ]
     },
     "metadata": {
      "needs_background": "light"
     },
     "output_type": "display_data"
    }
   ],
   "source": [
    "import pandas as pd \n",
    "data = pd.read_csv(\"train.csv\") \n",
    "data.Survived.value_counts().plot(kind='bar')"
   ]
  },
  {
   "cell_type": "markdown",
   "id": "d7525404",
   "metadata": {},
   "source": [
    "7.Please create a plot that shows the percentage of passengers for each ticket class who survived and who did not survive in pie chart format. (You should have three pie charts (for each ticket class) referring to passengers of ticket class 1 who survived and didn’t survive, passengers of ticket class 2 who survived and didn’t survive and so on)"
   ]
  },
  {
   "cell_type": "code",
   "execution_count": 100,
   "id": "2010c8ae",
   "metadata": {},
   "outputs": [
    {
     "data": {
      "text/plain": [
       "<AxesSubplot:title={'center':'Pclass 1 Survived Pie Chart'}, ylabel='Survived'>"
      ]
     },
     "execution_count": 100,
     "metadata": {},
     "output_type": "execute_result"
    },
    {
     "data": {
      "image/png": "[encoded data removed]",
      "text/plain": [
       "<Figure size 432x288 with 1 Axes>"
      ]
     },
     "metadata": {},
     "output_type": "display_data"
    }
   ],
   "source": [
    "import pandas as pd \n",
    "data = pd.read_csv(\"train.csv\") \n",
    "data[data.Pclass==1].Survived.value_counts().plot(kind='pie', autopct='%1.1f%%',title=\"Pclass 1 Survived Pie Chart\")"
   ]
  },
  {
   "cell_type": "code",
   "execution_count": 131,
   "id": "d2d4b5cc",
   "metadata": {},
   "outputs": [
    {
     "data": {
      "text/plain": [
       "<AxesSubplot:title={'center':'Pclass 2 Survived Pie Chart'}, ylabel='Survived'>"
      ]
     },
     "execution_count": 131,
     "metadata": {},
     "output_type": "execute_result"
    },
    {
     "data": {
      "image/png": "[encoded data removed]",
      "text/plain": [
       "<Figure size 432x288 with 1 Axes>"
      ]
     },
     "metadata": {},
     "output_type": "display_data"
    }
   ],
   "source": [
    "import pandas as pd \n",
    "data = pd.read_csv(\"train.csv\") \n",
    "data[data.Pclass==2].Survived.value_counts().plot(kind='pie', autopct='%1.1f%%',title=\"Pclass 2 Survived Pie Chart\")"
   ]
  },
  {
   "cell_type": "code",
   "execution_count": 101,
   "id": "4a32f62b",
   "metadata": {},
   "outputs": [
    {
     "data": {
      "text/plain": [
       "<AxesSubplot:title={'center':'Pclass 3 Survived Pie Chart'}, ylabel='Survived'>"
      ]
     },
     "execution_count": 101,
     "metadata": {},
     "output_type": "execute_result"
    },
    {
     "data": {
      "image/png": "[encoded data removed]",
      "text/plain": [
       "<Figure size 432x288 with 1 Axes>"
      ]
     },
     "metadata": {},
     "output_type": "display_data"
    }
   ],
   "source": [
    "import pandas as pd \n",
    "data = pd.read_csv(\"train.csv\") \n",
    "data[data.Pclass==3].Survived.value_counts().plot(kind='pie', autopct='%1.1f%%',title=\"Pclass 3 Survived Pie Chart\")\n",
    "           "
   ]
  },
  {
   "cell_type": "markdown",
   "id": "b0c87a95",
   "metadata": {},
   "source": [
    "8.Please create a bar chart that shows the survival rates of each ticket class. (You should have three bars referring to each ticket class) Explain your observations in your comments, are there more class 1, 2 or 3 passengers in total? Which class had the highest survival rate? What might be the reason?"
   ]
  },
  {
   "cell_type": "code",
   "execution_count": 179,
   "id": "c51c8128",
   "metadata": {},
   "outputs": [
    {
     "data": {
      "text/plain": [
       "[Text(0.5, 1.0, 'Passenger status (Survived/Died) against Passenger Class'),\n",
       " Text(0.5, 0, 'Passenger Class'),\n",
       " Text(0, 0.5, 'Total')]"
      ]
     },
     "execution_count": 179,
     "metadata": {},
     "output_type": "execute_result"
    },
    {
     "data": {
      "image/png": "[encoded data removed]",
      "text/plain": [
       "<Figure size 432x288 with 1 Axes>"
      ]
     },
     "metadata": {
      "needs_background": "light"
     },
     "output_type": "display_data"
    }
   ],
   "source": [
    "import seaborn as sns\n",
    "ax = sns.countplot(x = 'Pclass', hue = 'Survived', palette = 'Set2', data = data)\n",
    "ax.set(title = 'Passenger status (Survived/Died) against Passenger Class',xlabel = 'Passenger Class', ylabel = 'Total')"
   ]
  },
  {
   "cell_type": "markdown",
   "id": "e4dfa584",
   "metadata": {},
   "source": [
    "9.Please create a cross table as shown below (x will be computed and included in your answer).The cross table makes it possible to get information about how many people of each gender have survived etc. Please indicate which gender has the most number of survivors? Which gender has the lowest number of survivors? Compute the rate for each gender: number of survivors for that gender/all passengers of the gender"
   ]
  },
  {
   "cell_type": "code",
   "execution_count": 160,
   "id": "e8577c42",
   "metadata": {},
   "outputs": [
    {
     "name": "stdout",
     "output_type": "stream",
     "text": [
      "Survived    0    1  All\n",
      "Sex                    \n",
      "female     81  233  314\n",
      "male      468  109  577\n",
      "All       549  342  891\n"
     ]
    }
   ],
   "source": [
    "print(pd.crosstab(data[\"Sex\"],data.Survived,margins=True))\n"
   ]
  },
  {
   "cell_type": "markdown",
   "id": "3395d885",
   "metadata": {},
   "source": [
    "10.Please create a bar chart that shows the number of passengers who survived and who didn’t survive for each Port of Embarkation (C = Cherbourg, Q = Queenstown, S = Southampton). (You should have 6 bars in total)"
   ]
  },
  {
   "cell_type": "code",
   "execution_count": 173,
   "id": "d5f84090",
   "metadata": {},
   "outputs": [
    {
     "data": {
      "text/plain": [
       "[Text(0.5, 1.0, 'Passenger status (Survived/Died) against Embarkation'),\n",
       " Text(0.5, 0, 'Embarkation'),\n",
       " Text(0, 0.5, 'Total')]"
      ]
     },
     "execution_count": 173,
     "metadata": {},
     "output_type": "execute_result"
    },
    {
     "data": {
      "image/png": "[encoded data removed]",
      "text/plain": [
       "<Figure size 432x288 with 1 Axes>"
      ]
     },
     "metadata": {
      "needs_background": "light"
     },
     "output_type": "display_data"
    }
   ],
   "source": [
    "import seaborn as sns\n",
    "ax = sns.countplot(x = 'Embarked', hue = 'Survived', palette = 'Set1', data = data)\n",
    "ax.set(title = 'Passenger status (Survived/Died) against Embarkation', xlabel = 'Embarkation', ylabel = 'Total')\n"
   ]
  },
  {
   "cell_type": "markdown",
   "id": "1778dc8f",
   "metadata": {},
   "source": [
    "11."
   ]
  },
  {
   "cell_type": "code",
   "execution_count": null,
   "id": "791ba7f9",
   "metadata": {},
   "outputs": [],
   "source": []
  },
  {
   "cell_type": "markdown",
   "id": "a6d9b2ba",
   "metadata": {},
   "source": [
    "12."
   ]
  },
  {
   "cell_type": "code",
   "execution_count": null,
   "id": "d48b75fd",
   "metadata": {},
   "outputs": [],
   "source": []
  },
  {
   "cell_type": "markdown",
   "id": "a73fccf7",
   "metadata": {},
   "source": [
    "13."
   ]
  },
  {
   "cell_type": "code",
   "execution_count": null,
   "id": "59ce1e8b",
   "metadata": {},
   "outputs": [],
   "source": []
  },
  {
   "cell_type": "markdown",
   "id": "1405e04c",
   "metadata": {},
   "source": [
    "14."
   ]
  },
  {
   "cell_type": "code",
   "execution_count": null,
   "id": "50f6ed3b",
   "metadata": {},
   "outputs": [],
   "source": []
  },
  {
   "cell_type": "markdown",
   "id": "515000eb",
   "metadata": {},
   "source": [
    "15."
   ]
  },
  {
   "cell_type": "code",
   "execution_count": null,
   "id": "43316f67",
   "metadata": {},
   "outputs": [],
   "source": []
  }
 ],
 "metadata": {
  "kernelspec": {
   "display_name": "Python 3",
   "language": "python",
   "name": "python3"
  },
  "language_info": {
   "codemirror_mode": {
    "name": "ipython",
    "version": 3
   },
   "file_extension": ".py",
   "mimetype": "text/x-python",
   "name": "python",
   "nbconvert_exporter": "python",
   "pygments_lexer": "ipython3",
   "version": "3.8.8"
  }
 },
 "nbformat": 4,
 "nbformat_minor": 5
}
